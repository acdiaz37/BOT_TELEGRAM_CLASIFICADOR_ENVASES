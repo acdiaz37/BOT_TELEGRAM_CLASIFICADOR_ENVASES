{
 "cells": [
  {
   "cell_type": "code",
   "execution_count": 21,
   "id": "demographic-letter",
   "metadata": {},
   "outputs": [],
   "source": [
    "trainnin=[]\n",
    "cocacola = [0,1,2,3]"
   ]
  },
  {
   "cell_type": "code",
   "execution_count": 29,
   "id": "revolutionary-british",
   "metadata": {},
   "outputs": [
    {
     "name": "stdout",
     "output_type": "stream",
     "text": [
      "['abc', 'abc', 'abc', 'abc', [0, 1, 2, 3], 'abc']\n"
     ]
    }
   ],
   "source": [
    "trainnin.append('abc')\n",
    "print(trainnin)"
   ]
  },
  {
   "cell_type": "code",
   "execution_count": 28,
   "id": "floral-reconstruction",
   "metadata": {},
   "outputs": [],
   "source": [
    "trainnin.append(cocacola)"
   ]
  },
  {
   "cell_type": "code",
   "execution_count": null,
   "id": "toxic-certification",
   "metadata": {},
   "outputs": [],
   "source": []
  }
 ],
 "metadata": {
  "kernelspec": {
   "display_name": "Python 3",
   "language": "python",
   "name": "python3"
  },
  "language_info": {
   "codemirror_mode": {
    "name": "ipython",
    "version": 3
   },
   "file_extension": ".py",
   "mimetype": "text/x-python",
   "name": "python",
   "nbconvert_exporter": "python",
   "pygments_lexer": "ipython3",
   "version": "3.7.10"
  }
 },
 "nbformat": 4,
 "nbformat_minor": 5
}
